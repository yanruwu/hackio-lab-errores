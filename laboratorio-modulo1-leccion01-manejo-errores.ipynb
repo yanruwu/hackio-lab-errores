{
 "cells": [
  {
   "cell_type": "markdown",
   "metadata": {},
   "source": [
    "\n",
    "<div style=\"text-align: center;\">\n",
    "  <img src=\"https://github.com/Hack-io-Data/Imagenes/blob/main/01-LogosHackio/logo_celeste@4x.png?raw=true\" alt=\"esquema\" />\n",
    "</div>\n"
   ]
  },
  {
   "cell_type": "markdown",
   "metadata": {},
   "source": [
    "# Laboratorio de Python: manejo de errores."
   ]
  },
  {
   "cell_type": "markdown",
   "metadata": {},
   "source": [
    "## Ejercicio 1: División con manejo de excepciones\n",
    "\n",
    "Escribe un programa que pida al usuario dos números e intente dividirlos. Si el usuario ingresa un valor no numérico o intenta dividir por cero, maneja esas excepciones de manera adecuada. Asegúrate de mostrar un mensaje indicando si la división fue exitosa o no.\n"
   ]
  },
  {
   "cell_type": "code",
   "execution_count": 25,
   "metadata": {},
   "outputs": [
    {
     "name": "stdout",
     "output_type": "stream",
     "text": [
      "Valor no válido!\n",
      "Valor no válido!\n",
      "Valor no válido!\n",
      "Valor no válido!\n",
      "No puedes dividir por 0\n"
     ]
    }
   ],
   "source": [
    "while True:\n",
    "    try:\n",
    "        num1 = input(\"Introduce el primer número para dividir\")\n",
    "        if num1 == '':\n",
    "            break\n",
    "        else:\n",
    "            num1 = float(num1)\n",
    "        num2 = input(\"Introduce el segundo número para dividir\")\n",
    "        if num2 == '':\n",
    "            break\n",
    "        else:\n",
    "            num2 = float(num1)\n",
    "        div = num1/num2\n",
    "        \n",
    "    except KeyboardInterrupt:\n",
    "        break\n",
    "    except ValueError:\n",
    "\n",
    "        print(\"Valor no válido!\")\n",
    "        continue\n",
    "    except ZeroDivisionError:\n",
    "        print(\"No puedes dividir por 0\")\n",
    "        continue\n",
    "    else:\n",
    "        print(f'División posible! {num1}/{num2} = {div:.3f}')\n",
    "        break"
   ]
  },
  {
   "cell_type": "markdown",
   "metadata": {},
   "source": [
    "## Ejercicio 2: Acceso a archivos\n",
    "\n",
    "Escribe un programa que intente abrir un archivo llamado \"datos.txt\". Si el archivo no existe, captura la excepción y muestra un mensaje de error. Asegúrate de cerrar el archivo correctamente en la sección `finally`.\n"
   ]
  },
  {
   "cell_type": "code",
   "execution_count": 40,
   "metadata": {},
   "outputs": [
    {
     "name": "stdout",
     "output_type": "stream",
     "text": [
      "No se ha encontrado el archivo\n"
     ]
    },
    {
     "ename": "AttributeError",
     "evalue": "'NoneType' object has no attribute 'close'",
     "output_type": "error",
     "traceback": [
      "\u001b[1;31m---------------------------------------------------------------------------\u001b[0m",
      "\u001b[1;31mAttributeError\u001b[0m                            Traceback (most recent call last)",
      "Cell \u001b[1;32mIn[40], line 8\u001b[0m\n\u001b[0;32m      6\u001b[0m     \u001b[38;5;28;01mpass\u001b[39;00m\n\u001b[0;32m      7\u001b[0m \u001b[38;5;28;01mfinally\u001b[39;00m:\n\u001b[1;32m----> 8\u001b[0m     \u001b[43mf\u001b[49m\u001b[38;5;241;43m.\u001b[39;49m\u001b[43mclose\u001b[49m()\n",
      "\u001b[1;31mAttributeError\u001b[0m: 'NoneType' object has no attribute 'close'"
     ]
    }
   ],
   "source": [
    "try:\n",
    "    f = open(\"datos.txt\")\n",
    "except FileNotFoundError:\n",
    "    print(\"No se ha encontrado el archivo\")\n",
    "finally:\n",
    "    f.close()"
   ]
  },
  {
   "cell_type": "markdown",
   "metadata": {},
   "source": [
    "## Ejercicio 3: Conversión de cadenas a enteros\n",
    "\n",
    "Escribe un programa que pida una lista de números separados por comas y convierta cada valor a un número entero. Maneja las excepciones para valores que no sean convertibles y asegúrate de informar si la conversión fue exitosa o no.\n"
   ]
  },
  {
   "cell_type": "code",
   "execution_count": 22,
   "metadata": {},
   "outputs": [
    {
     "name": "stdout",
     "output_type": "stream",
     "text": [
      "Exitoso!. Lista final: [1929.0, 2.0, 4.0, 1.0, 2.0, 6.0, 0.0]\n"
     ]
    }
   ],
   "source": [
    "lista = input(\"Introduzca una lista de números separados por comas\").split(sep = \",\")\n",
    "for i in range(len(lista)):\n",
    "    try:\n",
    "        lista[i] = float(lista[i])\n",
    "    except ValueError:\n",
    "        print(f\"El elemento {lista[i]} no es un número!\")\n",
    "        pass\n",
    "if all(type(ele) == float for ele in lista):\n",
    "    print(f\"Exitoso!. Lista final: {lista}\")\n",
    "else:\n",
    "    print(f\"Conversión no exitosa. Lista final: {lista}\")\n"
   ]
  },
  {
   "cell_type": "markdown",
   "metadata": {},
   "source": [
    "#### Ejercicio 4: Cálculo del promedio con manejo de excepciones\n",
    "\n",
    "Escribe una función que reciba una lista de números y calcule su promedio. Si la lista está vacía, lanza una excepción personalizada y maneja el error adecuadamente.\n"
   ]
  },
  {
   "cell_type": "code",
   "execution_count": 32,
   "metadata": {},
   "outputs": [
    {
     "name": "stdout",
     "output_type": "stream",
     "text": [
      "La media de la lista es 10.71\n"
     ]
    }
   ],
   "source": [
    "lista = [2,6,1,3,7,1,55]\n",
    "def mean(array):\n",
    "    return sum(array)/len(array)\n",
    "\n",
    "try:\n",
    "    m = mean(lista)\n",
    "except ZeroDivisionError:\n",
    "    print(\"No puedes dividir por 0!\")\n",
    "except TypeError:\n",
    "    print(\"Tiene que ser una lista de números!\")\n",
    "else:\n",
    "    print(f\"La media de la lista es {m:.2f}\")"
   ]
  },
  {
   "cell_type": "markdown",
   "metadata": {},
   "source": [
    "#### Ejercicio 5: Conversión segura de números\n",
    "\n",
    "Escribe un programa que convierta una cadena a número flotante e intente realizar una operación aritmética. Si la conversión falla, maneja la excepción y continúa con el flujo normal."
   ]
  },
  {
   "cell_type": "code",
   "execution_count": 36,
   "metadata": {},
   "outputs": [
    {
     "name": "stdout",
     "output_type": "stream",
     "text": [
      "Número no válido!\n"
     ]
    }
   ],
   "source": [
    "try:\n",
    "    num = float(input(\"Introduzca un número\"))\n",
    "except ValueError:\n",
    "    print(\"Número no válido!\")\n",
    "else:\n",
    "    print(f\"El cubo del número es {num**3:.2f}\")"
   ]
  },
  {
   "cell_type": "markdown",
   "metadata": {},
   "source": [
    "#### Ejercicio 6: Acceso a claves en diccionarios\n",
    "\n",
    "Escribe un programa que intente acceder a una clave específica en un diccionario. Si la clave no existe, maneja la excepción `KeyError` y muestra un mensaje indicando el problema."
   ]
  },
  {
   "cell_type": "code",
   "execution_count": 47,
   "metadata": {},
   "outputs": [
    {
     "name": "stdout",
     "output_type": "stream",
     "text": [
      "No existe la clave indicada\n"
     ]
    }
   ],
   "source": [
    "datos = dict(animal = [\"gato\", \"perro\"])\n",
    "try:\n",
    "    print(datos[\"color\"])\n",
    "except KeyError:\n",
    "    print(\"No existe la clave indicada\")"
   ]
  },
  {
   "cell_type": "markdown",
   "metadata": {},
   "source": [
    "\n",
    "#### Ejercicio 7: Verificación de entradas de usuario\n",
    "\n",
    "Escribe un programa que pida al usuario que introduzca su edad. Si el usuario ingresa un valor no numérico o un valor fuera del rango esperado (por ejemplo, menor que 0 o mayor que 120), maneja las excepciones adecuadamente."
   ]
  },
  {
   "cell_type": "code",
   "execution_count": 50,
   "metadata": {},
   "outputs": [
    {
     "name": "stdout",
     "output_type": "stream",
     "text": [
      "Introduzca un valor válido\n"
     ]
    }
   ],
   "source": [
    "try:\n",
    "    edad = int(input(\"Introduce tu edad\"))\n",
    "    if not 0 < edad < 120:\n",
    "        raise IndexError\n",
    "except IndexError:\n",
    "    print(\"El valor debe estar entre 0 y 120\")\n",
    "except ValueError:\n",
    "    print(\"Introduzca un valor válido\")"
   ]
  },
  {
   "cell_type": "markdown",
   "metadata": {},
   "source": [
    "#### Ejercicio 8: Extracción de valores de una lista\n",
    "\n",
    "Escribe una función que intente acceder a un índice específico en una lista. Si el índice está fuera del rango, maneja la excepción `IndexError` y muestra un mensaje adecuado.\n"
   ]
  },
  {
   "cell_type": "code",
   "execution_count": null,
   "metadata": {},
   "outputs": [],
   "source": []
  }
 ],
 "metadata": {
  "kernelspec": {
   "display_name": "contenido",
   "language": "python",
   "name": "python3"
  },
  "language_info": {
   "codemirror_mode": {
    "name": "ipython",
    "version": 3
   },
   "file_extension": ".py",
   "mimetype": "text/x-python",
   "name": "python",
   "nbconvert_exporter": "python",
   "pygments_lexer": "ipython3",
   "version": "3.11.9"
  }
 },
 "nbformat": 4,
 "nbformat_minor": 2
}
